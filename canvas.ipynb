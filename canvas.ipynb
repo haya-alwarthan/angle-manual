{
 "cells": [
  {
   "cell_type": "code",
   "execution_count": 436,
   "id": "3eb556db",
   "metadata": {},
   "outputs": [],
   "source": [
    "from ipycanvas import Canvas\n",
    "import numpy as np\n",
    "import math\n",
    "from ipywidgets import Output\n",
    "from ipywidgets import Image"
   ]
  },
  {
   "cell_type": "code",
   "execution_count": 437,
   "id": "bc1104dd",
   "metadata": {},
   "outputs": [
    {
     "data": {
      "application/vnd.jupyter.widget-view+json": {
       "model_id": "d366467db33848fbac11e4c41c7ac9af",
       "version_major": 2,
       "version_minor": 0
      },
      "text/plain": [
       "Canvas(height=700, width=900)"
      ]
     },
     "metadata": {},
     "output_type": "display_data"
    }
   ],
   "source": [
    "canvas = Canvas(width=900,height=700)\n",
    "canvas"
   ]
  },
  {
   "cell_type": "code",
   "execution_count": 438,
   "id": "cb5be0cb",
   "metadata": {},
   "outputs": [
    {
     "data": {
      "application/vnd.jupyter.widget-view+json": {
       "model_id": "864a429a66d24d3093d4acd962e47393",
       "version_major": 2,
       "version_minor": 0
      },
      "text/plain": [
       "Output()"
      ]
     },
     "metadata": {},
     "output_type": "display_data"
    }
   ],
   "source": [
    "canvas.fill_rect(10,10,100,50)\n",
    "canvas.stroke_rect(0,0,900,700)\n",
    "points=[]\n",
    "start=(0,0)\n",
    "out = Output()\n",
    "\n",
    "@out.capture()\n",
    "def handle_mouse_down(x, y):\n",
    "    print(\"Mouse down event:\", x, y)\n",
    "    canvas.stroke_circle(x, y, 4)\n",
    "    points.append((x,y))\n",
    "    if len(points) == 2:\n",
    "        x1,y1=points[0]\n",
    "        x2,y2=points[1]\n",
    "        start_x=0\n",
    "        end_x=800\n",
    "        slope=(y2-y1)/(x2-x1)\n",
    "        start_y=y1-(slope*x1)\n",
    "        end_y=y2+slope*(800-x2)\n",
    "        global start\n",
    "        start=(start_x,start_y)\n",
    "        print(\"start:  \",[(start_x,start_y),(end_x,end_y)])\n",
    "        canvas.stroke_lines([points[0:2]])\n",
    "        canvas.stroke_lines([(start_x,start_y),(end_x,end_y)])\n",
    "    elif len(points) == 3:\n",
    "        print(\"start: \",start)\n",
    "        canvas.stroke_lines([points[0:3:2]])\n",
    "        v0 = np.array(points[2]) - np.array(points[0])\n",
    "        v1 = np.array(start) - np.array(points[0])\n",
    "        angle = np.math.atan2(np.linalg.det([v0,v1]),np.dot(v0,v1))\n",
    "        canvas.font = \"32px serif\"\n",
    "        canvas.fill_style = \"white\"\n",
    "        canvas.fill_text(str(round(np.degrees(angle), 2)) , 15, 36)\n",
    "        print(\"The Angle:  \", np.degrees(angle))\n",
    "        \n",
    "    \n",
    "    \n",
    "\n",
    "\n",
    "canvas.on_mouse_down(handle_mouse_down)\n",
    "\n",
    "display(out)"
   ]
  },
  {
   "cell_type": "code",
   "execution_count": 439,
   "id": "237f0501",
   "metadata": {},
   "outputs": [],
   "source": [
    "ace = Image.from_file(\"ace.png\")\n",
    "canvas.draw_image(ace, 0, 80)"
   ]
  },
  {
   "cell_type": "code",
   "execution_count": null,
   "id": "ea6b6c92",
   "metadata": {},
   "outputs": [],
   "source": [
    "pip install pipreqs\n",
    "pip install nbconvert"
   ]
  }
 ],
 "metadata": {
  "kernelspec": {
   "display_name": "pycanv",
   "language": "python",
   "name": "pycanv"
  },
  "language_info": {
   "codemirror_mode": {
    "name": "ipython",
    "version": 3
   },
   "file_extension": ".py",
   "mimetype": "text/x-python",
   "name": "python",
   "nbconvert_exporter": "python",
   "pygments_lexer": "ipython3",
   "version": "3.7.13"
  }
 },
 "nbformat": 4,
 "nbformat_minor": 5
}
